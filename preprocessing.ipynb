{
  "nbformat": 4,
  "nbformat_minor": 0,
  "metadata": {
    "colab": {
      "provenance": []
    },
    "kernelspec": {
      "name": "python3",
      "display_name": "Python 3"
    },
    "language_info": {
      "name": "python"
    }
  },
  "cells": [
    {
      "cell_type": "markdown",
      "source": [
        "**Temel kütüphanelerin dosyaya dahil edilmesi.**"
      ],
      "metadata": {
        "id": "5I9eIsPLqvKq"
      }
    },
    {
      "cell_type": "code",
      "execution_count": 1,
      "metadata": {
        "id": "wQJFMY80qsL2"
      },
      "outputs": [],
      "source": [
        "import numpy as np\n",
        "from PIL import Image\n",
        "import glob"
      ]
    },
    {
      "cell_type": "markdown",
      "source": [
        "**Projede kullanılacak fotoğrafların boyutları belirsiz ve birbirinden farklı olduğu için, yeniden boyutlandırma öncesi kesirli sayıları ortadan kaldırmayı gerekli gördüm. Bunun için fotoğrafların boyutlarının 64'ün katı olacak şekilde sıfırlardan oluşan pikseller ile kenar dolgusu ekledim**"
      ],
      "metadata": {
        "id": "xrcqZffWq_-Z"
      }
    },
    {
      "cell_type": "markdown",
      "source": [
        "**İlk for döngüsü resimleri tektek seçerken diğer 2 for döngüsü sütun ve satırlar için kullanılıyor. Ayrıca for döngülerinin içinde bulunan if blokları ise satır ve sürun değerinin tek sayı olması durumunda kenar dolgusunu tek taraflı yapmak için bulunuyor.**"
      ],
      "metadata": {
        "id": "muI6vuWnrkJG"
      }
    },
    {
      "cell_type": "code",
      "source": [
        "def zero_padding(x):\n",
        "    data = []\n",
        "    for i in x:\n",
        "        columns = i.shape[1]\n",
        "        rows = i.shape[0]\n",
        "\n",
        "        zeros = np.zeros((rows, 1))\n",
        "        for j in range(int((64 - (columns%64))/2)):\n",
        "            i = np.concatenate((i, zeros), axis=1)\n",
        "            i = np.concatenate((zeros, i), axis=1)\n",
        "        if columns%2 == 1:\n",
        "            i = np.concatenate((i, zeros), axis=1)\n",
        "        columns = i.shape[1]\n",
        "\n",
        "        zeros = np.zeros((1, columns))\n",
        "        for j in range(int((64 - (rows%64))/2)):\n",
        "            i = np.concatenate((i, zeros), axis=0)\n",
        "            i = np.concatenate((zeros, i), axis=0)\n",
        "        if rows%2 == 1:\n",
        "            i = np.concatenate((i, zeros), axis=0)\n",
        "        data.append(i)\n",
        "\n",
        "    return data\n"
      ],
      "metadata": {
        "id": "qkrjmJRmq-BZ"
      },
      "execution_count": 2,
      "outputs": []
    },
    {
      "cell_type": "markdown",
      "source": [
        "**Fotoğrafların küçültülmesi öncesi farklı metodlar kullanarak satır ve sütun uzunluklarını 64'ün katı haline getirmeyi denedim. Daha önceki seçeneğin aksine bu seçenekte fotoğrafların orjinal boyutu sabit tutuluyor bunun yerine kenar dolgusu arttırılıyor.**"
      ],
      "metadata": {
        "id": "owWoGPMxsA92"
      }
    },
    {
      "cell_type": "code",
      "source": [
        "def squared_zero_padding(x):\n",
        "    data = []\n",
        "    for i in x:\n",
        "        columns = i.shape[1]\n",
        "        rows = i.shape[0]\n",
        "        if columns > rows:\n",
        "            padding = columns + int((64 - (columns%64)))\n",
        "        elif rows > columns:\n",
        "            padding = rows + int((64 - (rows%64)))\n",
        "        else:\n",
        "            padding = columns + int((64 - (columns % 64)))\n",
        "\n",
        "        zeros = np.zeros((rows, 1))\n",
        "        for j in range(int((padding - columns) / 2)):\n",
        "            i = np.concatenate((i, zeros), axis=1)\n",
        "            i = np.concatenate((zeros, i), axis=1)\n",
        "            columns = i.shape[1]\n",
        "\n",
        "        zeros = np.zeros((1, columns))\n",
        "        for j in range(int((padding - rows) / 2)):\n",
        "            i = np.concatenate((i, zeros), axis=0)\n",
        "            i = np.concatenate((zeros, i), axis=0)\n",
        "        print(i.shape)\n",
        "        data.append(i)\n",
        "\n",
        "    return data"
      ],
      "metadata": {
        "id": "YMDjBZ8PsRU-"
      },
      "execution_count": 3,
      "outputs": []
    },
    {
      "cell_type": "markdown",
      "source": [
        "**Son methodda ise dolgu eklemek yerine fotoğrafın kenarlarından piksel silerek fotoğrafların boyutlarını 64'ün katı haline getirmeyi denedim. Fakat bu yöntem kenardaki bilgileri kaybetmekle sonuçlandı, özellikle uçak fotoğraflarında sorunlar çıkarttı, bu da modelin performansını etkiledi.**"
      ],
      "metadata": {
        "id": "21e1C7yEsVA9"
      }
    },
    {
      "cell_type": "code",
      "source": [
        "def delete_reshaping(x):\n",
        "    data = []\n",
        "    for i in x:\n",
        "        columns = i.shape[1]\n",
        "        rows = i.shape[0]\n",
        "        delete_row = int((rows % 64)/2)\n",
        "        delete_column = int((columns % 64)/2)\n",
        "        if columns % 2 == 1 and rows % 2 == 1:\n",
        "            i = i[delete_row+1:rows-delete_row,delete_column+1:columns-delete_column]\n",
        "        elif rows % 2 == 1:\n",
        "            i = i[delete_row+1:rows-delete_row,delete_column:columns-delete_column]\n",
        "        elif columns % 2 == 1:\n",
        "            i = i[delete_row:rows - delete_row, delete_column+1:columns - delete_column]\n",
        "        else:\n",
        "            i = i[delete_row:rows-delete_row,delete_column:columns-delete_column]\n",
        "\n",
        "        data.append(i)\n",
        "\n",
        "    return data"
      ],
      "metadata": {
        "id": "WrkgZVB9slGe"
      },
      "execution_count": 4,
      "outputs": []
    },
    {
      "cell_type": "markdown",
      "source": [
        "**Bu method fotoğrafları son olarak 64x64 boyutuna indiriyor. Burada fotoğraflar 64x64 dışında farklı boyutlara da indirgenebiliyor, fakat bunun öncesinde padding fonksiyonları buna göre şekillendirilmeli. Burada kare olarak seçilen alanlar tek piksele indirgeniyor. Bu işlem için seçilen alan içerisindeki piksellerin maksimum, ortalama değerleri gibi farklı özelliklerini seçerek değerlendirmeler yaptım. En iyi sonucu ortalama almak olarak tespit ettim.**"
      ],
      "metadata": {
        "id": "EZCy6GMtspYm"
      }
    },
    {
      "cell_type": "code",
      "source": [
        "def mean_resizing(x,y,size):\n",
        "\n",
        "    data = []\n",
        "    k = 0\n",
        "    for image in x:\n",
        "        resizedData = []\n",
        "        columns = image.shape[1]\n",
        "        rows = image.shape[0]\n",
        "\n",
        "\n",
        "        for i in range(0, rows, int(rows/size)):\n",
        "            myRow = []\n",
        "            for j in range(0, columns, int(columns/size)):\n",
        "                myCell = (image[i:i + int(rows/size), j:j + int(columns/size)])\n",
        "                max = np.mean(myCell)\n",
        "                myRow.append(max)\n",
        "            resizedData.append(myRow)\n",
        "        resizedData = [item for sublist in resizedData for item in sublist]\n",
        "        resizedData.append(y[k])\n",
        "        k += 1\n",
        "        data.append(resizedData)\n",
        "\n",
        "    return data"
      ],
      "metadata": {
        "id": "FEpcwMiKtNPP"
      },
      "execution_count": 5,
      "outputs": []
    },
    {
      "cell_type": "markdown",
      "source": [
        "**Burada pillow kütüphanesini kullanarak fotoğrafları python dosyasına dahil ettim. Ayrıca fotoğrafları RGB'den grayscale dönüşümünü de gerçekleştirdim.**"
      ],
      "metadata": {
        "id": "X0hfpe25tSOH"
      }
    },
    {
      "cell_type": "code",
      "source": [
        "x = []\n",
        "y = []\n",
        "\n",
        "pathCar = \"C:/python_projects/knn_classification_with_numpy/cars/*\"\n",
        "pathPlane = \"C:/python_projects/knn_classification_with_numpy/planes/*\"\n",
        "path1 = glob.glob(pathCar)\n",
        "path2 = glob.glob(pathPlane)\n",
        "\n",
        "\n",
        "\n",
        "for file in path1:\n",
        "    image = np.array(Image.open(file))\n",
        "    if image.ndim < 3:\n",
        "        image = image\n",
        "    else:\n",
        "        image = np.add(image[:, :, 0] * 0.2989, image[:, :, 1] * 0.5870, image[:, :, 2] * 0.1140)\n",
        "    x.append(image)\n",
        "    y.append(int(0))\n",
        "\n",
        "\n",
        "for file in path2:\n",
        "    image = np.array(Image.open(file))\n",
        "    if image.ndim < 3:\n",
        "        image = image\n",
        "    else:\n",
        "        image = np.add(image[:,:,0]*0.2989, image[:,:,1]*0.5870,image[:,:,2]*0.1140)\n",
        "    x.append(image)\n",
        "    y.append(int(1))"
      ],
      "metadata": {
        "id": "Zw72IAONtfSA"
      },
      "execution_count": 6,
      "outputs": []
    },
    {
      "cell_type": "markdown",
      "source": [
        "**Burada son olarak fonksiyonların çalıştırılması ardından fotoğrafların piksellerinden oluşan data dizisinin bilgisayar kaydedilmesi.**"
      ],
      "metadata": {
        "id": "WJ7S51sjtjhy"
      }
    },
    {
      "cell_type": "code",
      "source": [
        "x = zero_padding(x)\n",
        "data = mean_resizing(x,y,64)\n",
        "\n",
        "np.save(\"data2\",data)"
      ],
      "metadata": {
        "id": "RjaxhxSbtsu4"
      },
      "execution_count": 7,
      "outputs": []
    }
  ]
}
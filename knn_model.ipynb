{
  "nbformat": 4,
  "nbformat_minor": 0,
  "metadata": {
    "colab": {
      "provenance": []
    },
    "kernelspec": {
      "name": "python3",
      "display_name": "Python 3"
    },
    "language_info": {
      "name": "python"
    }
  },
  "cells": [
    {
      "cell_type": "markdown",
      "source": [
        "**Temel kütüphanelerin dosyaya dahil edilmesi.**"
      ],
      "metadata": {
        "id": "uMORlbGquQDH"
      }
    },
    {
      "cell_type": "code",
      "execution_count": 2,
      "metadata": {
        "id": "iQVBjuMquG2J"
      },
      "outputs": [],
      "source": [
        "import numpy as np\n",
        "import matplotlib.pyplot as plt"
      ]
    },
    {
      "cell_type": "markdown",
      "source": [
        "**İki vektör arasındaki mesafeyi euclidean methodu kullanılarak bulan fonksiyon.**"
      ],
      "metadata": {
        "id": "WqrpkDYJuY1s"
      }
    },
    {
      "cell_type": "code",
      "source": [
        "def euclidean_distance(row1, row2):\n",
        "    distance = 0.0\n",
        "    for i in range(len(row1)-1):\n",
        "        distance += (row1[i] - row2[i])**2\n",
        "    return np.sqrt(distance)"
      ],
      "metadata": {
        "id": "0gI3LMGkuil-"
      },
      "execution_count": 3,
      "outputs": []
    },
    {
      "cell_type": "markdown",
      "source": [
        "**Bir test vektörünün \"fotoğraf\" sıra ile tüm train vektörleriyle \"fotoğraf\" aralarındaki mesafenin ölçülmesi ardından bu mesafelerin en küçük k tanesinin bir listeye eklenmesi. Burada k tanesi bir liste olarak fonksiyona verilebilir bu sayede farklı k değerleri için sonuçlar bulunabilir.**"
      ],
      "metadata": {
        "id": "BXdkuEZhupia"
      }
    },
    {
      "cell_type": "code",
      "source": [
        "def find_neighbors(train, test_row, num_neighbors):\n",
        "\n",
        "    distances = []\n",
        "\n",
        "    for train_row in train:\n",
        "        dist = euclidean_distance(train_row, test_row)\n",
        "        distances.append((dist,train_row[-1]))\n",
        "\n",
        "    distances.sort(key=lambda tup: tup[0])\n",
        "\n",
        "    neighbors_list = []\n",
        "    for j in num_neighbors:\n",
        "        neighbors = []\n",
        "        for i in range(j):\n",
        "            neighbors.append(distances[i][1])\n",
        "        neighbors_list.append(neighbors)\n",
        "\n",
        "    return neighbors_list"
      ],
      "metadata": {
        "id": "xS_osoRUunnB"
      },
      "execution_count": 4,
      "outputs": []
    },
    {
      "cell_type": "markdown",
      "source": [
        "**Bir vektöre \"fotoğrafa\" en yakın vektörlerin \"fotoğrafların\" sayısının hesaplanması buna göre vektörün hangi sınıfa ait olduğunun belirlenmesi, burada yine farklı k değerleri için değişen en yakın vektör sayısına göre değişen sonuçlar toplu olarak hesaplanabilir.**"
      ],
      "metadata": {
        "id": "5-_rBDVWvN4v"
      }
    },
    {
      "cell_type": "code",
      "source": [
        "def find_class(train, test_row, num_neighbors):\n",
        "\n",
        "    neighbors_list = find_neighbors(train, test_row, num_neighbors)\n",
        "\n",
        "    predictions = []\n",
        "    for i in range(len(neighbors_list)):\n",
        "        my_list2 = np.array(neighbors_list[i])\n",
        "        ones = np.sum(my_list2)\n",
        "\n",
        "        if ones > int((len(neighbors_list[i]) - 1)  / 2):\n",
        "            predictions.append(1)\n",
        "        else:\n",
        "            predictions.append(0)\n",
        "    return predictions"
      ],
      "metadata": {
        "id": "IWXFEae0vNvH"
      },
      "execution_count": 5,
      "outputs": []
    },
    {
      "cell_type": "markdown",
      "source": [
        "**Verilerin projeye dahil edilmesi.**"
      ],
      "metadata": {
        "id": "Z7d0eC3NvnAI"
      }
    },
    {
      "cell_type": "code",
      "source": [
        "data = np.load(\"data2.npy\")"
      ],
      "metadata": {
        "id": "7Wwgcz7JvnJ4"
      },
      "execution_count": 7,
      "outputs": []
    },
    {
      "cell_type": "markdown",
      "source": [
        "**Verilerin rastgele bir şekilde karıştırılması ardından, test ve train olarak ayrılması. Burada oran 90-10 olarak belirlenmiştir.**"
      ],
      "metadata": {
        "id": "G6RBXZmHv_zO"
      }
    },
    {
      "cell_type": "code",
      "source": [
        "np.random.shuffle(data)\n",
        "\n",
        "slicer = int(data.shape[0]*0.9)\n",
        "data_train = data[:slicer,:]\n",
        "data_test = data[slicer:data.shape[0],:]"
      ],
      "metadata": {
        "id": "FKwBfH7gv1sW"
      },
      "execution_count": 9,
      "outputs": []
    },
    {
      "cell_type": "markdown",
      "source": [
        "**Burada tüm test verileri sırasıyla değerlendirildi ve tahmin edilen sonuçlar alındı.**"
      ],
      "metadata": {
        "id": "bM3smREtwSP8"
      }
    },
    {
      "cell_type": "code",
      "source": [
        "predicted_values = []\n",
        "my_list = range(1,60,2)\n",
        "for test_row in data_test:\n",
        "    predictions = find_class(data_train, test_row, my_list)\n",
        "    predicted_values.append(predictions)"
      ],
      "metadata": {
        "id": "rrK9Zw-Tv_EG"
      },
      "execution_count": 10,
      "outputs": []
    },
    {
      "cell_type": "markdown",
      "source": [
        "**Burada tahmin edilen değerler farklı k değerlerine göre tek tek doğru değerler ile karşılaştırıldı ve doğruluk değeri hesaplandı.**"
      ],
      "metadata": {
        "id": "IKxI72JlwaGW"
      }
    },
    {
      "cell_type": "code",
      "source": [
        "k = []\n",
        "for i in range(len(predicted_values[0])):\n",
        "\n",
        "    true_prediction = 0\n",
        "    for j in range(len(data_test)):\n",
        "        if data_test[j,-1] == predicted_values[j][i]:\n",
        "            true_prediction += 1\n",
        "        else:\n",
        "            continue\n",
        "\n",
        "    k.append(true_prediction/(len(data_test)+1))"
      ],
      "metadata": {
        "id": "nHqumJf_wZ_R"
      },
      "execution_count": 11,
      "outputs": []
    },
    {
      "cell_type": "markdown",
      "source": [
        "**Farklı k değerlerine göre elde edilen doğruluk değerlerinin bir grafik olarak çizdirilmesi.**"
      ],
      "metadata": {
        "id": "JWgS-b3KwpZx"
      }
    },
    {
      "cell_type": "code",
      "source": [
        "plt.plot(my_list,k)\n",
        "plt.show()"
      ],
      "metadata": {
        "colab": {
          "base_uri": "https://localhost:8080/",
          "height": 265
        },
        "id": "FhS-QwKtwpL-",
        "outputId": "0ad86121-2c94-41b9-9869-12388c7e8155"
      },
      "execution_count": 12,
      "outputs": [
        {
          "output_type": "display_data",
          "data": {
            "text/plain": [
              "<Figure size 432x288 with 1 Axes>"
            ],
            "image/png": "[encoded data removed]"
          },
          "metadata": {
            "needs_background": "light"
          }
        }
      ]
    },
    {
      "cell_type": "markdown",
      "source": [
        "**Verilerin her seferinde rastgele karıştırılması sonucu, programın her çalıştırılmasında farklı doğruluk değerleri elde ettim. Fakat her seferinde doğruluk değerleri farklı k değerleri için 70-85 arasında çıktı. Buradan sonuç olarak modelin doğru k değeri seçilerek %85 doğruluk oranı ile çalıştığı söylenebilir.**"
      ],
      "metadata": {
        "id": "EhGg6HDDxS10"
      }
    }
  ]
}